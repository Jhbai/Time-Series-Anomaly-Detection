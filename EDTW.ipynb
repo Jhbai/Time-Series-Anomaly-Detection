{
 "cells": [
  {
   "cell_type": "code",
   "execution_count": 15,
   "metadata": {},
   "outputs": [
    {
     "name": "stdout",
     "output_type": "stream",
     "text": [
      "R: [6 0 0 6 9 4 9 0 3 8]\n",
      "Q: [0 2 7 1 3 6 2 4 1 6]\n",
      "Anomaly Indices: [0, 3, 5, 6, 7, 8]\n",
      "Support Values: [0, 1.0, 1.0, 0, 1.0, 0, 0, 0, 0, 1.0, 1.0, 2.0, 2.0]\n"
     ]
    }
   ],
   "source": [
    "import numpy as np\n",
    "\n",
    "def generate_random_sequence(length, value_range=(0, 10)):\n",
    "    \"\"\"隨機生成時間序列\"\"\"\n",
    "    return np.random.randint(value_range[0], value_range[1], length)\n",
    "\n",
    "def calculate_dtw_path(R, Q):\n",
    "    \"\"\"計算 R 和 Q 的 DTW 路徑\"\"\"\n",
    "    m, n = len(R), len(Q)\n",
    "    dtw = np.full((m+1, n+1), float('inf'))\n",
    "    dtw[0, 0] = 0\n",
    "    \n",
    "    for i in range(1, m+1):\n",
    "        for j in range(1, n+1):\n",
    "            cost = abs(R[i-1] - Q[j-1])\n",
    "            dtw[i, j] = cost + min(dtw[i-1, j],    # 垂直方向（↑）\n",
    "                                   dtw[i, j-1],    # 水平方向（→）\n",
    "                                   dtw[i-1, j-1])  # 對角方向（↗）\n",
    "    \n",
    "    # 回溯得到最佳匹配路徑\n",
    "    path = []\n",
    "    i, j = m, n\n",
    "    while i > 0 or j > 0:\n",
    "        path.append((i-1, j-1))\n",
    "        if i == 0:\n",
    "            j -= 1\n",
    "        elif j == 0:\n",
    "            i -= 1\n",
    "        else:\n",
    "            if dtw[i-1, j] == min(dtw[i-1, j], dtw[i, j-1], dtw[i-1, j-1]):\n",
    "                i -= 1\n",
    "            elif dtw[i, j-1] == min(dtw[i-1, j], dtw[i, j-1], dtw[i-1, j-1]):\n",
    "                j -= 1\n",
    "            else:\n",
    "                i -= 1\n",
    "                j -= 1\n",
    "    path.reverse()\n",
    "    return path\n",
    "\n",
    "def encode_direction(path):\n",
    "    \"\"\"對路徑進行方向編碼\"\"\"\n",
    "    encodings = []\n",
    "    for (i1, j1), (i2, j2) in zip(path[:-1], path[1:]):\n",
    "        if i2 == i1 and j2 == j1 + 1:  # 水平移動（→）\n",
    "            encodings.append((1, 0, 0))\n",
    "        elif i2 == i1 + 1 and j2 == j1:  # 垂直移動（↑）\n",
    "            encodings.append((0, 0, 1))\n",
    "        elif i2 == i1 + 1 and j2 == j1 + 1:  # 對角移動（↗）\n",
    "            encodings.append((0, 1, 0))\n",
    "        else:\n",
    "            encodings.append((0, 0, 0))  # 其他情況\n",
    "    return encodings\n",
    "\n",
    "def build_M(R, training_sequences):\n",
    "    \"\"\"構建矩陣 M\"\"\"\n",
    "    M = np.zeros((len(R), len(R), 3))  # 每個位置是 (水平, 對角, 垂直) 三維向量\n",
    "    for Q in training_sequences:\n",
    "        path = calculate_dtw_path(R, Q)\n",
    "        encodings = encode_direction(path)\n",
    "        for (i, j), encoding in zip(path, encodings):\n",
    "            M[i, j] += np.array(encoding)\n",
    "    return M\n",
    "\n",
    "def calculate_support(M, path, l=3):\n",
    "    \"\"\"計算支持度\"\"\"\n",
    "    support = []\n",
    "    for idx, (i, j) in enumerate(path):\n",
    "        window = path[max(0, idx-l):idx+1]  # 窗口內的步驟\n",
    "        max_support = 0\n",
    "        for wi, wj in window:\n",
    "            encoding = encode_direction([(wi, wj), (i, j)])[0]\n",
    "            max_support = max(max_support, np.dot(encoding, M[wi, wj]))\n",
    "        support.append(max_support)\n",
    "    return support\n",
    "\n",
    "def anomaly_detection(R, Q, M, threshold=0.5, l=3):\n",
    "    \"\"\"針對 Q 進行異常檢測\"\"\"\n",
    "    path = calculate_dtw_path(R, Q)\n",
    "    support = calculate_support(M, path, l)\n",
    "    anomaly_indices = [idx for idx, s in enumerate(support) if s < threshold]\n",
    "    return anomaly_indices, support\n",
    "\n",
    "# ---- Demo ---- #\n",
    "# 隨機生成代表性模式 R 和訓練數據\n",
    "R = generate_random_sequence(10)\n",
    "training_sequences = [generate_random_sequence(10) for _ in range(5)]\n",
    "\n",
    "# 構建 M\n",
    "M = build_M(R, training_sequences)\n",
    "\n",
    "# 測試序列 Q\n",
    "# Q = np.sin(np.linspace(0, np.pi*2, 10))\n",
    "Q = generate_random_sequence(10)\n",
    "\n",
    "# 異常檢測\n",
    "anomaly_indices, support = anomaly_detection(R, Q, M)\n",
    "print(\"R:\", R)\n",
    "print(\"Q:\", Q)\n",
    "print(\"Anomaly Indices:\", anomaly_indices)\n",
    "print(\"Support Values:\", support)\n"
   ]
  },
  {
   "cell_type": "code",
   "execution_count": 13,
   "metadata": {},
   "outputs": [
    {
     "data": {
      "text/plain": [
       "array([0.        , 0.6981317 , 1.3962634 , 2.0943951 , 2.7925268 ,\n",
       "       3.4906585 , 4.1887902 , 4.88692191, 5.58505361, 6.28318531])"
      ]
     },
     "execution_count": 13,
     "metadata": {},
     "output_type": "execute_result"
    }
   ],
   "source": []
  }
 ],
 "metadata": {
  "kernelspec": {
   "display_name": "MachineLearningEnv",
   "language": "python",
   "name": "python3"
  },
  "language_info": {
   "codemirror_mode": {
    "name": "ipython",
    "version": 3
   },
   "file_extension": ".py",
   "mimetype": "text/x-python",
   "name": "python",
   "nbconvert_exporter": "python",
   "pygments_lexer": "ipython3",
   "version": "3.11.5"
  }
 },
 "nbformat": 4,
 "nbformat_minor": 2
}
